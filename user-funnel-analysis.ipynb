{
 "cells": [
  {
   "cell_type": "markdown",
   "id": "0a00a286",
   "metadata": {
    "papermill": {
     "duration": 0.00251,
     "end_time": "2023-08-05T16:48:10.061967",
     "exception": false,
     "start_time": "2023-08-05T16:48:10.059457",
     "status": "completed"
    },
    "tags": []
   },
   "source": [
    "# User Funnel Analysis\n",
    "- User Funnel Analysis is a way to analyze the flow of users on a website or an application. It helps analyze the conversion rate on each page visited by the users.\n",
    "\n",
    "- User funnel analysis is a way to understand how users interact with a website or an application. It helps businesses analyze the conversion rate from the page the user visited the website or the app to the page user left the website or the app.\n",
    "\n",
    "- By tracking user flow as they move through the various stages of the funnel, companies can identify areas where users are giving up or getting stuck, then take action to improve user experience and increase conversions.\n",
    "\n",
    "- For example, if a lot of users leave the website after adding items to the cart, the company may look for ways to make the checkout process faster and easier."
   ]
  },
  {
   "cell_type": "markdown",
   "id": "5ea7ee16",
   "metadata": {
    "papermill": {
     "duration": 0.001687,
     "end_time": "2023-08-05T16:48:10.065981",
     "exception": false,
     "start_time": "2023-08-05T16:48:10.064294",
     "status": "completed"
    },
    "tags": []
   },
   "source": [
    "# Import Libraries"
   ]
  },
  {
   "cell_type": "code",
   "execution_count": 1,
   "id": "da47cc04",
   "metadata": {
    "execution": {
     "iopub.execute_input": "2023-08-05T16:48:10.072217Z",
     "iopub.status.busy": "2023-08-05T16:48:10.071673Z",
     "iopub.status.idle": "2023-08-05T16:48:10.084115Z",
     "shell.execute_reply": "2023-08-05T16:48:10.083311Z"
    },
    "papermill": {
     "duration": 0.018347,
     "end_time": "2023-08-05T16:48:10.086207",
     "exception": false,
     "start_time": "2023-08-05T16:48:10.067860",
     "status": "completed"
    },
    "tags": []
   },
   "outputs": [],
   "source": [
    "import pandas as pd"
   ]
  }
 ],
 "metadata": {
  "kernelspec": {
   "display_name": "Python 3",
   "language": "python",
   "name": "python3"
  },
  "language_info": {
   "codemirror_mode": {
    "name": "ipython",
    "version": 3
   },
   "file_extension": ".py",
   "mimetype": "text/x-python",
   "name": "python",
   "nbconvert_exporter": "python",
   "pygments_lexer": "ipython3",
   "version": "3.10.12"
  },
  "papermill": {
   "default_parameters": {},
   "duration": 11.930325,
   "end_time": "2023-08-05T16:48:10.909733",
   "environment_variables": {},
   "exception": null,
   "input_path": "__notebook__.ipynb",
   "output_path": "__notebook__.ipynb",
   "parameters": {},
   "start_time": "2023-08-05T16:47:58.979408",
   "version": "2.4.0"
  }
 },
 "nbformat": 4,
 "nbformat_minor": 5
}
