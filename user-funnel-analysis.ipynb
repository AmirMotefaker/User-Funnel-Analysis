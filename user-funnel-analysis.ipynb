{
 "cells": [
  {
   "cell_type": "markdown",
   "id": "328c63a6",
   "metadata": {
    "papermill": {
     "duration": 0.003721,
     "end_time": "2023-08-05T16:49:51.893071",
     "exception": false,
     "start_time": "2023-08-05T16:49:51.889350",
     "status": "completed"
    },
    "tags": []
   },
   "source": [
    "# User Funnel Analysis\n",
    "- User Funnel Analysis is a way to analyze the flow of users on a website or an application. It helps analyze the conversion rate on each page visited by the users.\n",
    "\n",
    "- User funnel analysis is a way to understand how users interact with a website or an application. It helps businesses analyze the conversion rate from the page the user visited the website or the app to the page user left the website or the app.\n",
    "\n",
    "- By tracking user flow as they move through the various stages of the funnel, companies can identify areas where users are giving up or getting stuck, then take action to improve user experience and increase conversions.\n",
    "\n",
    "- For example, if a lot of users leave the website after adding items to the cart, the company may look for ways to make the checkout process faster and easier."
   ]
  },
  {
   "cell_type": "markdown",
   "id": "591c7e5e",
   "metadata": {
    "papermill": {
     "duration": 0.00291,
     "end_time": "2023-08-05T16:49:51.899533",
     "exception": false,
     "start_time": "2023-08-05T16:49:51.896623",
     "status": "completed"
    },
    "tags": []
   },
   "source": [
    "# Import Libraries"
   ]
  },
  {
   "cell_type": "code",
   "execution_count": 1,
   "id": "4cd39a27",
   "metadata": {
    "execution": {
     "iopub.execute_input": "2023-08-05T16:49:51.907691Z",
     "iopub.status.busy": "2023-08-05T16:49:51.907300Z",
     "iopub.status.idle": "2023-08-05T16:49:51.919244Z",
     "shell.execute_reply": "2023-08-05T16:49:51.918236Z"
    },
    "papermill": {
     "duration": 0.019107,
     "end_time": "2023-08-05T16:49:51.921748",
     "exception": false,
     "start_time": "2023-08-05T16:49:51.902641",
     "status": "completed"
    },
    "tags": []
   },
   "outputs": [],
   "source": [
    "import pandas as pd"
   ]
  },
  {
   "cell_type": "markdown",
   "id": "a62bb42b",
   "metadata": {
    "papermill": {
     "duration": 0.002991,
     "end_time": "2023-08-05T16:49:51.928088",
     "exception": false,
     "start_time": "2023-08-05T16:49:51.925097",
     "status": "completed"
    },
    "tags": []
   },
   "source": [
    "# Read Data"
   ]
  },
  {
   "cell_type": "code",
   "execution_count": 2,
   "id": "a13b644f",
   "metadata": {
    "execution": {
     "iopub.execute_input": "2023-08-05T16:49:51.936337Z",
     "iopub.status.busy": "2023-08-05T16:49:51.935925Z",
     "iopub.status.idle": "2023-08-05T16:49:51.984720Z",
     "shell.execute_reply": "2023-08-05T16:49:51.983495Z"
    },
    "papermill": {
     "duration": 0.056146,
     "end_time": "2023-08-05T16:49:51.987587",
     "exception": false,
     "start_time": "2023-08-05T16:49:51.931441",
     "status": "completed"
    },
    "tags": []
   },
   "outputs": [],
   "source": [
    "data = pd.read_csv(\"/kaggle/input/user-funnels-dataset/user_data.csv\")"
   ]
  },
  {
   "cell_type": "code",
   "execution_count": 3,
   "id": "f8d46303",
   "metadata": {
    "execution": {
     "iopub.execute_input": "2023-08-05T16:49:51.996574Z",
     "iopub.status.busy": "2023-08-05T16:49:51.995905Z",
     "iopub.status.idle": "2023-08-05T16:49:52.011426Z",
     "shell.execute_reply": "2023-08-05T16:49:52.009988Z"
    },
    "papermill": {
     "duration": 0.023254,
     "end_time": "2023-08-05T16:49:52.014292",
     "exception": false,
     "start_time": "2023-08-05T16:49:51.991038",
     "status": "completed"
    },
    "tags": []
   },
   "outputs": [
    {
     "name": "stdout",
     "output_type": "stream",
     "text": [
      "  user_id     stage  conversion\n",
      "0  user_0  homepage        True\n",
      "1  user_1  homepage        True\n",
      "2  user_2  homepage        True\n",
      "3  user_3  homepage        True\n",
      "4  user_4  homepage        True\n"
     ]
    }
   ],
   "source": [
    "print(data.head())"
   ]
  },
  {
   "cell_type": "markdown",
   "id": "4d27635e",
   "metadata": {
    "papermill": {
     "duration": 0.003157,
     "end_time": "2023-08-05T16:49:52.020951",
     "exception": false,
     "start_time": "2023-08-05T16:49:52.017794",
     "status": "completed"
    },
    "tags": []
   },
   "source": [
    "# Stage Column"
   ]
  },
  {
   "cell_type": "code",
   "execution_count": 4,
   "id": "e53683cd",
   "metadata": {
    "execution": {
     "iopub.execute_input": "2023-08-05T16:49:52.030165Z",
     "iopub.status.busy": "2023-08-05T16:49:52.028931Z",
     "iopub.status.idle": "2023-08-05T16:49:52.045736Z",
     "shell.execute_reply": "2023-08-05T16:49:52.044761Z"
    },
    "papermill": {
     "duration": 0.023839,
     "end_time": "2023-08-05T16:49:52.048054",
     "exception": false,
     "start_time": "2023-08-05T16:49:52.024215",
     "status": "completed"
    },
    "tags": []
   },
   "outputs": [
    {
     "name": "stdout",
     "output_type": "stream",
     "text": [
      "homepage        10000\n",
      "product_page     5000\n",
      "cart             1500\n",
      "checkout          450\n",
      "purchase          225\n",
      "Name: stage, dtype: int64\n"
     ]
    }
   ],
   "source": [
    "print(data[\"stage\"].value_counts())"
   ]
  }
 ],
 "metadata": {
  "kernelspec": {
   "display_name": "Python 3",
   "language": "python",
   "name": "python3"
  },
  "language_info": {
   "codemirror_mode": {
    "name": "ipython",
    "version": 3
   },
   "file_extension": ".py",
   "mimetype": "text/x-python",
   "name": "python",
   "nbconvert_exporter": "python",
   "pygments_lexer": "ipython3",
   "version": "3.10.12"
  },
  "papermill": {
   "default_parameters": {},
   "duration": 12.95026,
   "end_time": "2023-08-05T16:49:52.873714",
   "environment_variables": {},
   "exception": null,
   "input_path": "__notebook__.ipynb",
   "output_path": "__notebook__.ipynb",
   "parameters": {},
   "start_time": "2023-08-05T16:49:39.923454",
   "version": "2.4.0"
  }
 },
 "nbformat": 4,
 "nbformat_minor": 5
}
