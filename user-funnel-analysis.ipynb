{
 "cells": [
  {
   "cell_type": "markdown",
   "id": "7d85f9fb",
   "metadata": {
    "papermill": {
     "duration": 0.002367,
     "end_time": "2023-08-05T16:48:42.981677",
     "exception": false,
     "start_time": "2023-08-05T16:48:42.979310",
     "status": "completed"
    },
    "tags": []
   },
   "source": [
    "# User Funnel Analysis\n",
    "- User Funnel Analysis is a way to analyze the flow of users on a website or an application. It helps analyze the conversion rate on each page visited by the users.\n",
    "\n",
    "- User funnel analysis is a way to understand how users interact with a website or an application. It helps businesses analyze the conversion rate from the page the user visited the website or the app to the page user left the website or the app.\n",
    "\n",
    "- By tracking user flow as they move through the various stages of the funnel, companies can identify areas where users are giving up or getting stuck, then take action to improve user experience and increase conversions.\n",
    "\n",
    "- For example, if a lot of users leave the website after adding items to the cart, the company may look for ways to make the checkout process faster and easier."
   ]
  },
  {
   "cell_type": "markdown",
   "id": "6d6bbc80",
   "metadata": {
    "papermill": {
     "duration": 0.001712,
     "end_time": "2023-08-05T16:48:42.985842",
     "exception": false,
     "start_time": "2023-08-05T16:48:42.984130",
     "status": "completed"
    },
    "tags": []
   },
   "source": [
    "# Import Libraries"
   ]
  },
  {
   "cell_type": "code",
   "execution_count": 1,
   "id": "317c37ef",
   "metadata": {
    "execution": {
     "iopub.execute_input": "2023-08-05T16:48:42.991121Z",
     "iopub.status.busy": "2023-08-05T16:48:42.990726Z",
     "iopub.status.idle": "2023-08-05T16:48:43.000182Z",
     "shell.execute_reply": "2023-08-05T16:48:42.999162Z"
    },
    "papermill": {
     "duration": 0.014499,
     "end_time": "2023-08-05T16:48:43.002181",
     "exception": false,
     "start_time": "2023-08-05T16:48:42.987682",
     "status": "completed"
    },
    "tags": []
   },
   "outputs": [],
   "source": [
    "import pandas as pd"
   ]
  },
  {
   "cell_type": "markdown",
   "id": "2a4dd13c",
   "metadata": {
    "papermill": {
     "duration": 0.001728,
     "end_time": "2023-08-05T16:48:43.005998",
     "exception": false,
     "start_time": "2023-08-05T16:48:43.004270",
     "status": "completed"
    },
    "tags": []
   },
   "source": [
    "# Read Data"
   ]
  },
  {
   "cell_type": "code",
   "execution_count": 2,
   "id": "4ee173bd",
   "metadata": {
    "execution": {
     "iopub.execute_input": "2023-08-05T16:48:43.011522Z",
     "iopub.status.busy": "2023-08-05T16:48:43.011125Z",
     "iopub.status.idle": "2023-08-05T16:48:43.060459Z",
     "shell.execute_reply": "2023-08-05T16:48:43.059321Z"
    },
    "papermill": {
     "duration": 0.055499,
     "end_time": "2023-08-05T16:48:43.063428",
     "exception": false,
     "start_time": "2023-08-05T16:48:43.007929",
     "status": "completed"
    },
    "tags": []
   },
   "outputs": [],
   "source": [
    "data = pd.read_csv(\"/kaggle/input/user-funnels-dataset/user_data.csv\")"
   ]
  }
 ],
 "metadata": {
  "kernelspec": {
   "display_name": "Python 3",
   "language": "python",
   "name": "python3"
  },
  "language_info": {
   "codemirror_mode": {
    "name": "ipython",
    "version": 3
   },
   "file_extension": ".py",
   "mimetype": "text/x-python",
   "name": "python",
   "nbconvert_exporter": "python",
   "pygments_lexer": "ipython3",
   "version": "3.10.12"
  },
  "papermill": {
   "default_parameters": {},
   "duration": 10.065472,
   "end_time": "2023-08-05T16:48:43.886051",
   "environment_variables": {},
   "exception": null,
   "input_path": "__notebook__.ipynb",
   "output_path": "__notebook__.ipynb",
   "parameters": {},
   "start_time": "2023-08-05T16:48:33.820579",
   "version": "2.4.0"
  }
 },
 "nbformat": 4,
 "nbformat_minor": 5
}
