{
 "cells": [
  {
   "cell_type": "markdown",
   "id": "f3b53b2a",
   "metadata": {
    "papermill": {
     "duration": 0.003279,
     "end_time": "2023-08-05T16:53:08.149163",
     "exception": false,
     "start_time": "2023-08-05T16:53:08.145884",
     "status": "completed"
    },
    "tags": []
   },
   "source": [
    "# User Funnel Analysis\n",
    "- User Funnel Analysis is a way to analyze the flow of users on a website or an application. It helps analyze the conversion rate on each page visited by the users.\n",
    "\n",
    "- User funnel analysis is a way to understand how users interact with a website or an application. It helps businesses analyze the conversion rate from the page the user visited the website or the app to the page user left the website or the app.\n",
    "\n",
    "- By tracking user flow as they move through the various stages of the funnel, companies can identify areas where users are giving up or getting stuck, then take action to improve user experience and increase conversions.\n",
    "\n",
    "- For example, if a lot of users leave the website after adding items to the cart, the company may look for ways to make the checkout process faster and easier."
   ]
  },
  {
   "cell_type": "markdown",
   "id": "29cf9aca",
   "metadata": {
    "papermill": {
     "duration": 0.002349,
     "end_time": "2023-08-05T16:53:08.154204",
     "exception": false,
     "start_time": "2023-08-05T16:53:08.151855",
     "status": "completed"
    },
    "tags": []
   },
   "source": [
    "# Import Libraries"
   ]
  },
  {
   "cell_type": "code",
   "execution_count": 1,
   "id": "ae70997b",
   "metadata": {
    "execution": {
     "iopub.execute_input": "2023-08-05T16:53:08.161645Z",
     "iopub.status.busy": "2023-08-05T16:53:08.160814Z",
     "iopub.status.idle": "2023-08-05T16:53:08.170061Z",
     "shell.execute_reply": "2023-08-05T16:53:08.169402Z"
    },
    "papermill": {
     "duration": 0.015105,
     "end_time": "2023-08-05T16:53:08.171795",
     "exception": false,
     "start_time": "2023-08-05T16:53:08.156690",
     "status": "completed"
    },
    "tags": []
   },
   "outputs": [],
   "source": [
    "import pandas as pd"
   ]
  },
  {
   "cell_type": "markdown",
   "id": "9218bf73",
   "metadata": {
    "papermill": {
     "duration": 0.002333,
     "end_time": "2023-08-05T16:53:08.177057",
     "exception": false,
     "start_time": "2023-08-05T16:53:08.174724",
     "status": "completed"
    },
    "tags": []
   },
   "source": [
    "# Read Data"
   ]
  },
  {
   "cell_type": "code",
   "execution_count": 2,
   "id": "54301d15",
   "metadata": {
    "execution": {
     "iopub.execute_input": "2023-08-05T16:53:08.183606Z",
     "iopub.status.busy": "2023-08-05T16:53:08.183096Z",
     "iopub.status.idle": "2023-08-05T16:53:08.228334Z",
     "shell.execute_reply": "2023-08-05T16:53:08.227411Z"
    },
    "papermill": {
     "duration": 0.051063,
     "end_time": "2023-08-05T16:53:08.230625",
     "exception": false,
     "start_time": "2023-08-05T16:53:08.179562",
     "status": "completed"
    },
    "tags": []
   },
   "outputs": [],
   "source": [
    "data = pd.read_csv(\"/kaggle/input/user-funnels-dataset/user_data.csv\")"
   ]
  },
  {
   "cell_type": "code",
   "execution_count": 3,
   "id": "9ba668c8",
   "metadata": {
    "execution": {
     "iopub.execute_input": "2023-08-05T16:53:08.237710Z",
     "iopub.status.busy": "2023-08-05T16:53:08.237167Z",
     "iopub.status.idle": "2023-08-05T16:53:08.250007Z",
     "shell.execute_reply": "2023-08-05T16:53:08.248916Z"
    },
    "papermill": {
     "duration": 0.019352,
     "end_time": "2023-08-05T16:53:08.252898",
     "exception": false,
     "start_time": "2023-08-05T16:53:08.233546",
     "status": "completed"
    },
    "tags": []
   },
   "outputs": [
    {
     "name": "stdout",
     "output_type": "stream",
     "text": [
      "  user_id     stage  conversion\n",
      "0  user_0  homepage        True\n",
      "1  user_1  homepage        True\n",
      "2  user_2  homepage        True\n",
      "3  user_3  homepage        True\n",
      "4  user_4  homepage        True\n"
     ]
    }
   ],
   "source": [
    "print(data.head())"
   ]
  },
  {
   "cell_type": "markdown",
   "id": "4f6e2a9e",
   "metadata": {
    "papermill": {
     "duration": 0.002563,
     "end_time": "2023-08-05T16:53:08.258529",
     "exception": false,
     "start_time": "2023-08-05T16:53:08.255966",
     "status": "completed"
    },
    "tags": []
   },
   "source": [
    "# Stage Column\n",
    "\n",
    "- The stage column contains the stages of the flow of the users. For example, when you visit Amazon, the first stage will be the homepage of Amazon, and the last page will be the page where you proceed with the payment."
   ]
  },
  {
   "cell_type": "code",
   "execution_count": 4,
   "id": "1857f1d6",
   "metadata": {
    "execution": {
     "iopub.execute_input": "2023-08-05T16:53:08.265678Z",
     "iopub.status.busy": "2023-08-05T16:53:08.264863Z",
     "iopub.status.idle": "2023-08-05T16:53:08.276687Z",
     "shell.execute_reply": "2023-08-05T16:53:08.275483Z"
    },
    "papermill": {
     "duration": 0.017192,
     "end_time": "2023-08-05T16:53:08.278314",
     "exception": false,
     "start_time": "2023-08-05T16:53:08.261122",
     "status": "completed"
    },
    "tags": []
   },
   "outputs": [
    {
     "name": "stdout",
     "output_type": "stream",
     "text": [
      "homepage        10000\n",
      "product_page     5000\n",
      "cart             1500\n",
      "checkout          450\n",
      "purchase          225\n",
      "Name: stage, dtype: int64\n"
     ]
    }
   ],
   "source": [
    "print(data[\"stage\"].value_counts())"
   ]
  },
  {
   "cell_type": "markdown",
   "id": "4ca96bc0",
   "metadata": {
    "papermill": {
     "duration": 0.002517,
     "end_time": "2023-08-05T16:53:08.283695",
     "exception": false,
     "start_time": "2023-08-05T16:53:08.281178",
     "status": "completed"
    },
    "tags": []
   },
   "source": [
    "# Homepage & Product"
   ]
  },
  {
   "cell_type": "code",
   "execution_count": 5,
   "id": "4ab4c969",
   "metadata": {
    "execution": {
     "iopub.execute_input": "2023-08-05T16:53:08.290652Z",
     "iopub.status.busy": "2023-08-05T16:53:08.290305Z",
     "iopub.status.idle": "2023-08-05T16:53:09.641497Z",
     "shell.execute_reply": "2023-08-05T16:53:09.640674Z"
    },
    "papermill": {
     "duration": 1.357327,
     "end_time": "2023-08-05T16:53:09.643806",
     "exception": false,
     "start_time": "2023-08-05T16:53:08.286479",
     "status": "completed"
    },
    "tags": []
   },
   "outputs": [],
   "source": [
    "import plotly.graph_objects as go\n",
    "import plotly.io as pio\n",
    "pio.templates.default = \"plotly_white\""
   ]
  },
  {
   "cell_type": "markdown",
   "id": "7b1f716e",
   "metadata": {
    "papermill": {
     "duration": 0.002492,
     "end_time": "2023-08-05T16:53:09.649248",
     "exception": false,
     "start_time": "2023-08-05T16:53:09.646756",
     "status": "completed"
    },
    "tags": []
   },
   "source": [
    "# Define the Funnel Stages"
   ]
  },
  {
   "cell_type": "code",
   "execution_count": 6,
   "id": "86104daf",
   "metadata": {
    "execution": {
     "iopub.execute_input": "2023-08-05T16:53:09.656021Z",
     "iopub.status.busy": "2023-08-05T16:53:09.655695Z",
     "iopub.status.idle": "2023-08-05T16:53:09.659878Z",
     "shell.execute_reply": "2023-08-05T16:53:09.659086Z"
    },
    "papermill": {
     "duration": 0.009644,
     "end_time": "2023-08-05T16:53:09.661582",
     "exception": false,
     "start_time": "2023-08-05T16:53:09.651938",
     "status": "completed"
    },
    "tags": []
   },
   "outputs": [],
   "source": [
    "funnel_stages = ['homepage', 'product_page', 'cart', 'checkout', 'purchase']"
   ]
  }
 ],
 "metadata": {
  "kernelspec": {
   "display_name": "Python 3",
   "language": "python",
   "name": "python3"
  },
  "language_info": {
   "codemirror_mode": {
    "name": "ipython",
    "version": 3
   },
   "file_extension": ".py",
   "mimetype": "text/x-python",
   "name": "python",
   "nbconvert_exporter": "python",
   "pygments_lexer": "ipython3",
   "version": "3.10.12"
  },
  "papermill": {
   "default_parameters": {},
   "duration": 9.897519,
   "end_time": "2023-08-05T16:53:10.384432",
   "environment_variables": {},
   "exception": null,
   "input_path": "__notebook__.ipynb",
   "output_path": "__notebook__.ipynb",
   "parameters": {},
   "start_time": "2023-08-05T16:53:00.486913",
   "version": "2.4.0"
  }
 },
 "nbformat": 4,
 "nbformat_minor": 5
}
