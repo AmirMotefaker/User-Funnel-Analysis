{
 "cells": [
  {
   "cell_type": "markdown",
   "id": "6eeb5fe3",
   "metadata": {
    "papermill": {
     "duration": 0.00486,
     "end_time": "2023-08-05T16:53:14.931518",
     "exception": false,
     "start_time": "2023-08-05T16:53:14.926658",
     "status": "completed"
    },
    "tags": []
   },
   "source": [
    "# User Funnel Analysis\n",
    "- User Funnel Analysis is a way to analyze the flow of users on a website or an application. It helps analyze the conversion rate on each page visited by the users.\n",
    "\n",
    "- User funnel analysis is a way to understand how users interact with a website or an application. It helps businesses analyze the conversion rate from the page the user visited the website or the app to the page user left the website or the app.\n",
    "\n",
    "- By tracking user flow as they move through the various stages of the funnel, companies can identify areas where users are giving up or getting stuck, then take action to improve user experience and increase conversions.\n",
    "\n",
    "- For example, if a lot of users leave the website after adding items to the cart, the company may look for ways to make the checkout process faster and easier."
   ]
  },
  {
   "cell_type": "markdown",
   "id": "9380f800",
   "metadata": {
    "papermill": {
     "duration": 0.004072,
     "end_time": "2023-08-05T16:53:14.940292",
     "exception": false,
     "start_time": "2023-08-05T16:53:14.936220",
     "status": "completed"
    },
    "tags": []
   },
   "source": [
    "# Import Libraries"
   ]
  },
  {
   "cell_type": "code",
   "execution_count": 1,
   "id": "3c8a7052",
   "metadata": {
    "execution": {
     "iopub.execute_input": "2023-08-05T16:53:14.951174Z",
     "iopub.status.busy": "2023-08-05T16:53:14.950568Z",
     "iopub.status.idle": "2023-08-05T16:53:14.967472Z",
     "shell.execute_reply": "2023-08-05T16:53:14.966340Z"
    },
    "papermill": {
     "duration": 0.02565,
     "end_time": "2023-08-05T16:53:14.970315",
     "exception": false,
     "start_time": "2023-08-05T16:53:14.944665",
     "status": "completed"
    },
    "tags": []
   },
   "outputs": [],
   "source": [
    "import pandas as pd"
   ]
  },
  {
   "cell_type": "markdown",
   "id": "a61e92eb",
   "metadata": {
    "papermill": {
     "duration": 0.004436,
     "end_time": "2023-08-05T16:53:14.979306",
     "exception": false,
     "start_time": "2023-08-05T16:53:14.974870",
     "status": "completed"
    },
    "tags": []
   },
   "source": [
    "# Read Data"
   ]
  },
  {
   "cell_type": "code",
   "execution_count": 2,
   "id": "a713eefc",
   "metadata": {
    "execution": {
     "iopub.execute_input": "2023-08-05T16:53:14.990071Z",
     "iopub.status.busy": "2023-08-05T16:53:14.989658Z",
     "iopub.status.idle": "2023-08-05T16:53:15.039501Z",
     "shell.execute_reply": "2023-08-05T16:53:15.038170Z"
    },
    "papermill": {
     "duration": 0.059082,
     "end_time": "2023-08-05T16:53:15.042758",
     "exception": false,
     "start_time": "2023-08-05T16:53:14.983676",
     "status": "completed"
    },
    "tags": []
   },
   "outputs": [],
   "source": [
    "data = pd.read_csv(\"/kaggle/input/user-funnels-dataset/user_data.csv\")"
   ]
  },
  {
   "cell_type": "code",
   "execution_count": 3,
   "id": "17c5b829",
   "metadata": {
    "execution": {
     "iopub.execute_input": "2023-08-05T16:53:15.054437Z",
     "iopub.status.busy": "2023-08-05T16:53:15.053728Z",
     "iopub.status.idle": "2023-08-05T16:53:15.074243Z",
     "shell.execute_reply": "2023-08-05T16:53:15.070795Z"
    },
    "papermill": {
     "duration": 0.030163,
     "end_time": "2023-08-05T16:53:15.077544",
     "exception": false,
     "start_time": "2023-08-05T16:53:15.047381",
     "status": "completed"
    },
    "tags": []
   },
   "outputs": [
    {
     "name": "stdout",
     "output_type": "stream",
     "text": [
      "  user_id     stage  conversion\n",
      "0  user_0  homepage        True\n",
      "1  user_1  homepage        True\n",
      "2  user_2  homepage        True\n",
      "3  user_3  homepage        True\n",
      "4  user_4  homepage        True\n"
     ]
    }
   ],
   "source": [
    "print(data.head())"
   ]
  },
  {
   "cell_type": "markdown",
   "id": "136a7f7b",
   "metadata": {
    "papermill": {
     "duration": 0.004273,
     "end_time": "2023-08-05T16:53:15.086815",
     "exception": false,
     "start_time": "2023-08-05T16:53:15.082542",
     "status": "completed"
    },
    "tags": []
   },
   "source": [
    "# Stage Column\n",
    "\n",
    "- The stage column contains the stages of the flow of the users. For example, when you visit Amazon, the first stage will be the homepage of Amazon, and the last page will be the page where you proceed with the payment."
   ]
  },
  {
   "cell_type": "code",
   "execution_count": 4,
   "id": "973ea1c2",
   "metadata": {
    "execution": {
     "iopub.execute_input": "2023-08-05T16:53:15.098466Z",
     "iopub.status.busy": "2023-08-05T16:53:15.097647Z",
     "iopub.status.idle": "2023-08-05T16:53:15.114067Z",
     "shell.execute_reply": "2023-08-05T16:53:15.113124Z"
    },
    "papermill": {
     "duration": 0.02523,
     "end_time": "2023-08-05T16:53:15.116592",
     "exception": false,
     "start_time": "2023-08-05T16:53:15.091362",
     "status": "completed"
    },
    "tags": []
   },
   "outputs": [
    {
     "name": "stdout",
     "output_type": "stream",
     "text": [
      "homepage        10000\n",
      "product_page     5000\n",
      "cart             1500\n",
      "checkout          450\n",
      "purchase          225\n",
      "Name: stage, dtype: int64\n"
     ]
    }
   ],
   "source": [
    "print(data[\"stage\"].value_counts())"
   ]
  },
  {
   "cell_type": "markdown",
   "id": "98390278",
   "metadata": {
    "papermill": {
     "duration": 0.004518,
     "end_time": "2023-08-05T16:53:15.125940",
     "exception": false,
     "start_time": "2023-08-05T16:53:15.121422",
     "status": "completed"
    },
    "tags": []
   },
   "source": [
    "# Homepage & Product"
   ]
  },
  {
   "cell_type": "code",
   "execution_count": 5,
   "id": "d2b43c6a",
   "metadata": {
    "execution": {
     "iopub.execute_input": "2023-08-05T16:53:15.137339Z",
     "iopub.status.busy": "2023-08-05T16:53:15.136564Z",
     "iopub.status.idle": "2023-08-05T16:53:17.144943Z",
     "shell.execute_reply": "2023-08-05T16:53:17.143299Z"
    },
    "papermill": {
     "duration": 2.018864,
     "end_time": "2023-08-05T16:53:17.149446",
     "exception": false,
     "start_time": "2023-08-05T16:53:15.130582",
     "status": "completed"
    },
    "tags": []
   },
   "outputs": [],
   "source": [
    "import plotly.graph_objects as go\n",
    "import plotly.io as pio\n",
    "pio.templates.default = \"plotly_white\""
   ]
  },
  {
   "cell_type": "markdown",
   "id": "94cbae49",
   "metadata": {
    "papermill": {
     "duration": 0.005124,
     "end_time": "2023-08-05T16:53:17.159413",
     "exception": false,
     "start_time": "2023-08-05T16:53:17.154289",
     "status": "completed"
    },
    "tags": []
   },
   "source": [
    "# Define the Funnel Stages"
   ]
  },
  {
   "cell_type": "code",
   "execution_count": 6,
   "id": "07602944",
   "metadata": {
    "execution": {
     "iopub.execute_input": "2023-08-05T16:53:17.171598Z",
     "iopub.status.busy": "2023-08-05T16:53:17.171138Z",
     "iopub.status.idle": "2023-08-05T16:53:17.177505Z",
     "shell.execute_reply": "2023-08-05T16:53:17.175819Z"
    },
    "papermill": {
     "duration": 0.015933,
     "end_time": "2023-08-05T16:53:17.180578",
     "exception": false,
     "start_time": "2023-08-05T16:53:17.164645",
     "status": "completed"
    },
    "tags": []
   },
   "outputs": [],
   "source": [
    "funnel_stages = ['homepage', 'product_page', 'cart', 'checkout', 'purchase']"
   ]
  }
 ],
 "metadata": {
  "kernelspec": {
   "display_name": "Python 3",
   "language": "python",
   "name": "python3"
  },
  "language_info": {
   "codemirror_mode": {
    "name": "ipython",
    "version": 3
   },
   "file_extension": ".py",
   "mimetype": "text/x-python",
   "name": "python",
   "nbconvert_exporter": "python",
   "pygments_lexer": "ipython3",
   "version": "3.10.12"
  },
  "papermill": {
   "default_parameters": {},
   "duration": 17.531955,
   "end_time": "2023-08-05T16:53:18.210319",
   "environment_variables": {},
   "exception": null,
   "input_path": "__notebook__.ipynb",
   "output_path": "__notebook__.ipynb",
   "parameters": {},
   "start_time": "2023-08-05T16:53:00.678364",
   "version": "2.4.0"
  }
 },
 "nbformat": 4,
 "nbformat_minor": 5
}
