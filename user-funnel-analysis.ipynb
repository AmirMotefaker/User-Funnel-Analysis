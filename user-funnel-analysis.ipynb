{
 "cells": [
  {
   "cell_type": "markdown",
   "id": "eae52deb",
   "metadata": {
    "papermill": {
     "duration": 0.002589,
     "end_time": "2023-08-05T16:50:15.962092",
     "exception": false,
     "start_time": "2023-08-05T16:50:15.959503",
     "status": "completed"
    },
    "tags": []
   },
   "source": [
    "# User Funnel Analysis\n",
    "- User Funnel Analysis is a way to analyze the flow of users on a website or an application. It helps analyze the conversion rate on each page visited by the users.\n",
    "\n",
    "- User funnel analysis is a way to understand how users interact with a website or an application. It helps businesses analyze the conversion rate from the page the user visited the website or the app to the page user left the website or the app.\n",
    "\n",
    "- By tracking user flow as they move through the various stages of the funnel, companies can identify areas where users are giving up or getting stuck, then take action to improve user experience and increase conversions.\n",
    "\n",
    "- For example, if a lot of users leave the website after adding items to the cart, the company may look for ways to make the checkout process faster and easier."
   ]
  },
  {
   "cell_type": "markdown",
   "id": "b816f050",
   "metadata": {
    "papermill": {
     "duration": 0.001844,
     "end_time": "2023-08-05T16:50:15.966292",
     "exception": false,
     "start_time": "2023-08-05T16:50:15.964448",
     "status": "completed"
    },
    "tags": []
   },
   "source": [
    "# Import Libraries"
   ]
  },
  {
   "cell_type": "code",
   "execution_count": 1,
   "id": "59544b40",
   "metadata": {
    "execution": {
     "iopub.execute_input": "2023-08-05T16:50:15.971853Z",
     "iopub.status.busy": "2023-08-05T16:50:15.971479Z",
     "iopub.status.idle": "2023-08-05T16:50:15.979876Z",
     "shell.execute_reply": "2023-08-05T16:50:15.979022Z"
    },
    "papermill": {
     "duration": 0.014162,
     "end_time": "2023-08-05T16:50:15.982431",
     "exception": false,
     "start_time": "2023-08-05T16:50:15.968269",
     "status": "completed"
    },
    "tags": []
   },
   "outputs": [],
   "source": [
    "import pandas as pd"
   ]
  },
  {
   "cell_type": "markdown",
   "id": "bbdbb558",
   "metadata": {
    "papermill": {
     "duration": 0.001958,
     "end_time": "2023-08-05T16:50:15.986712",
     "exception": false,
     "start_time": "2023-08-05T16:50:15.984754",
     "status": "completed"
    },
    "tags": []
   },
   "source": [
    "# Read Data"
   ]
  },
  {
   "cell_type": "code",
   "execution_count": 2,
   "id": "f1593597",
   "metadata": {
    "execution": {
     "iopub.execute_input": "2023-08-05T16:50:15.993563Z",
     "iopub.status.busy": "2023-08-05T16:50:15.992158Z",
     "iopub.status.idle": "2023-08-05T16:50:16.031186Z",
     "shell.execute_reply": "2023-08-05T16:50:16.030125Z"
    },
    "papermill": {
     "duration": 0.044619,
     "end_time": "2023-08-05T16:50:16.033345",
     "exception": false,
     "start_time": "2023-08-05T16:50:15.988726",
     "status": "completed"
    },
    "tags": []
   },
   "outputs": [],
   "source": [
    "data = pd.read_csv(\"/kaggle/input/user-funnels-dataset/user_data.csv\")"
   ]
  },
  {
   "cell_type": "code",
   "execution_count": 3,
   "id": "dcbbbd75",
   "metadata": {
    "execution": {
     "iopub.execute_input": "2023-08-05T16:50:16.040041Z",
     "iopub.status.busy": "2023-08-05T16:50:16.039706Z",
     "iopub.status.idle": "2023-08-05T16:50:16.055520Z",
     "shell.execute_reply": "2023-08-05T16:50:16.054838Z"
    },
    "papermill": {
     "duration": 0.021907,
     "end_time": "2023-08-05T16:50:16.057618",
     "exception": false,
     "start_time": "2023-08-05T16:50:16.035711",
     "status": "completed"
    },
    "tags": []
   },
   "outputs": [
    {
     "name": "stdout",
     "output_type": "stream",
     "text": [
      "  user_id     stage  conversion\n",
      "0  user_0  homepage        True\n",
      "1  user_1  homepage        True\n",
      "2  user_2  homepage        True\n",
      "3  user_3  homepage        True\n",
      "4  user_4  homepage        True\n"
     ]
    }
   ],
   "source": [
    "print(data.head())"
   ]
  },
  {
   "cell_type": "markdown",
   "id": "6b3b3f77",
   "metadata": {
    "papermill": {
     "duration": 0.001989,
     "end_time": "2023-08-05T16:50:16.062054",
     "exception": false,
     "start_time": "2023-08-05T16:50:16.060065",
     "status": "completed"
    },
    "tags": []
   },
   "source": [
    "# Stage Column\n",
    "\n",
    "- The stage column contains the stages of the flow of the users. For example, when you visit Amazon, the first stage will be the homepage of Amazon, and the last page will be the page where you proceed with the payment."
   ]
  },
  {
   "cell_type": "code",
   "execution_count": 4,
   "id": "b0ea8ee9",
   "metadata": {
    "execution": {
     "iopub.execute_input": "2023-08-05T16:50:16.067972Z",
     "iopub.status.busy": "2023-08-05T16:50:16.067650Z",
     "iopub.status.idle": "2023-08-05T16:50:16.078939Z",
     "shell.execute_reply": "2023-08-05T16:50:16.078129Z"
    },
    "papermill": {
     "duration": 0.016926,
     "end_time": "2023-08-05T16:50:16.081070",
     "exception": false,
     "start_time": "2023-08-05T16:50:16.064144",
     "status": "completed"
    },
    "tags": []
   },
   "outputs": [
    {
     "name": "stdout",
     "output_type": "stream",
     "text": [
      "homepage        10000\n",
      "product_page     5000\n",
      "cart             1500\n",
      "checkout          450\n",
      "purchase          225\n",
      "Name: stage, dtype: int64\n"
     ]
    }
   ],
   "source": [
    "print(data[\"stage\"].value_counts())"
   ]
  }
 ],
 "metadata": {
  "kernelspec": {
   "display_name": "Python 3",
   "language": "python",
   "name": "python3"
  },
  "language_info": {
   "codemirror_mode": {
    "name": "ipython",
    "version": 3
   },
   "file_extension": ".py",
   "mimetype": "text/x-python",
   "name": "python",
   "nbconvert_exporter": "python",
   "pygments_lexer": "ipython3",
   "version": "3.10.12"
  },
  "papermill": {
   "default_parameters": {},
   "duration": 9.494881,
   "end_time": "2023-08-05T16:50:16.904341",
   "environment_variables": {},
   "exception": null,
   "input_path": "__notebook__.ipynb",
   "output_path": "__notebook__.ipynb",
   "parameters": {},
   "start_time": "2023-08-05T16:50:07.409460",
   "version": "2.4.0"
  }
 },
 "nbformat": 4,
 "nbformat_minor": 5
}
