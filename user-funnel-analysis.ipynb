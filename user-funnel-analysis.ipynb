{
 "cells": [
  {
   "cell_type": "markdown",
   "id": "89588d40",
   "metadata": {
    "papermill": {
     "duration": 0.002374,
     "end_time": "2023-08-05T16:49:07.331297",
     "exception": false,
     "start_time": "2023-08-05T16:49:07.328923",
     "status": "completed"
    },
    "tags": []
   },
   "source": [
    "# User Funnel Analysis\n",
    "- User Funnel Analysis is a way to analyze the flow of users on a website or an application. It helps analyze the conversion rate on each page visited by the users.\n",
    "\n",
    "- User funnel analysis is a way to understand how users interact with a website or an application. It helps businesses analyze the conversion rate from the page the user visited the website or the app to the page user left the website or the app.\n",
    "\n",
    "- By tracking user flow as they move through the various stages of the funnel, companies can identify areas where users are giving up or getting stuck, then take action to improve user experience and increase conversions.\n",
    "\n",
    "- For example, if a lot of users leave the website after adding items to the cart, the company may look for ways to make the checkout process faster and easier."
   ]
  },
  {
   "cell_type": "markdown",
   "id": "9861ed54",
   "metadata": {
    "papermill": {
     "duration": 0.001528,
     "end_time": "2023-08-05T16:49:07.334818",
     "exception": false,
     "start_time": "2023-08-05T16:49:07.333290",
     "status": "completed"
    },
    "tags": []
   },
   "source": [
    "# Import Libraries"
   ]
  },
  {
   "cell_type": "code",
   "execution_count": 1,
   "id": "2d66d6e7",
   "metadata": {
    "execution": {
     "iopub.execute_input": "2023-08-05T16:49:07.339746Z",
     "iopub.status.busy": "2023-08-05T16:49:07.339370Z",
     "iopub.status.idle": "2023-08-05T16:49:07.348211Z",
     "shell.execute_reply": "2023-08-05T16:49:07.347485Z"
    },
    "papermill": {
     "duration": 0.013554,
     "end_time": "2023-08-05T16:49:07.349997",
     "exception": false,
     "start_time": "2023-08-05T16:49:07.336443",
     "status": "completed"
    },
    "tags": []
   },
   "outputs": [],
   "source": [
    "import pandas as pd"
   ]
  },
  {
   "cell_type": "markdown",
   "id": "5d00cce4",
   "metadata": {
    "papermill": {
     "duration": 0.001752,
     "end_time": "2023-08-05T16:49:07.353921",
     "exception": false,
     "start_time": "2023-08-05T16:49:07.352169",
     "status": "completed"
    },
    "tags": []
   },
   "source": [
    "# Read Data"
   ]
  },
  {
   "cell_type": "code",
   "execution_count": 2,
   "id": "3e1d6697",
   "metadata": {
    "execution": {
     "iopub.execute_input": "2023-08-05T16:49:07.359501Z",
     "iopub.status.busy": "2023-08-05T16:49:07.358895Z",
     "iopub.status.idle": "2023-08-05T16:49:07.398320Z",
     "shell.execute_reply": "2023-08-05T16:49:07.397525Z"
    },
    "papermill": {
     "duration": 0.044824,
     "end_time": "2023-08-05T16:49:07.400632",
     "exception": false,
     "start_time": "2023-08-05T16:49:07.355808",
     "status": "completed"
    },
    "tags": []
   },
   "outputs": [],
   "source": [
    "data = pd.read_csv(\"/kaggle/input/user-funnels-dataset/user_data.csv\")"
   ]
  },
  {
   "cell_type": "code",
   "execution_count": 3,
   "id": "76e67236",
   "metadata": {
    "execution": {
     "iopub.execute_input": "2023-08-05T16:49:07.406537Z",
     "iopub.status.busy": "2023-08-05T16:49:07.406002Z",
     "iopub.status.idle": "2023-08-05T16:49:07.420319Z",
     "shell.execute_reply": "2023-08-05T16:49:07.419135Z"
    },
    "papermill": {
     "duration": 0.019861,
     "end_time": "2023-08-05T16:49:07.422729",
     "exception": false,
     "start_time": "2023-08-05T16:49:07.402868",
     "status": "completed"
    },
    "tags": []
   },
   "outputs": [
    {
     "name": "stdout",
     "output_type": "stream",
     "text": [
      "  user_id     stage  conversion\n",
      "0  user_0  homepage        True\n",
      "1  user_1  homepage        True\n",
      "2  user_2  homepage        True\n",
      "3  user_3  homepage        True\n",
      "4  user_4  homepage        True\n"
     ]
    }
   ],
   "source": [
    "print(data.head())"
   ]
  }
 ],
 "metadata": {
  "kernelspec": {
   "display_name": "Python 3",
   "language": "python",
   "name": "python3"
  },
  "language_info": {
   "codemirror_mode": {
    "name": "ipython",
    "version": 3
   },
   "file_extension": ".py",
   "mimetype": "text/x-python",
   "name": "python",
   "nbconvert_exporter": "python",
   "pygments_lexer": "ipython3",
   "version": "3.10.12"
  },
  "papermill": {
   "default_parameters": {},
   "duration": 9.057402,
   "end_time": "2023-08-05T16:49:08.244898",
   "environment_variables": {},
   "exception": null,
   "input_path": "__notebook__.ipynb",
   "output_path": "__notebook__.ipynb",
   "parameters": {},
   "start_time": "2023-08-05T16:48:59.187496",
   "version": "2.4.0"
  }
 },
 "nbformat": 4,
 "nbformat_minor": 5
}
