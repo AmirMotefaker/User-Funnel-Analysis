{
 "cells": [
  {
   "cell_type": "markdown",
   "id": "7212f83a",
   "metadata": {
    "papermill": {
     "duration": 0.005771,
     "end_time": "2023-08-05T16:59:04.495466",
     "exception": false,
     "start_time": "2023-08-05T16:59:04.489695",
     "status": "completed"
    },
    "tags": []
   },
   "source": [
    "# User Funnel Analysis\n",
    "- User Funnel Analysis is a way to analyze the flow of users on a website or an application. It helps analyze the conversion rate on each page visited by the users.\n",
    "\n",
    "- User funnel analysis is a way to understand how users interact with a website or an application. It helps businesses analyze the conversion rate from the page the user visited the website or the app to the page user left the website or the app.\n",
    "\n",
    "- By tracking user flow as they move through the various stages of the funnel, companies can identify areas where users are giving up or getting stuck, then take action to improve user experience and increase conversions.\n",
    "\n",
    "- For example, if a lot of users leave the website after adding items to the cart, the company may look for ways to make the checkout process faster and easier."
   ]
  },
  {
   "cell_type": "markdown",
   "id": "6dacab9e",
   "metadata": {
    "papermill": {
     "duration": 0.004492,
     "end_time": "2023-08-05T16:59:04.505252",
     "exception": false,
     "start_time": "2023-08-05T16:59:04.500760",
     "status": "completed"
    },
    "tags": []
   },
   "source": [
    "# Import Libraries"
   ]
  },
  {
   "cell_type": "code",
   "execution_count": 1,
   "id": "5337db72",
   "metadata": {
    "execution": {
     "iopub.execute_input": "2023-08-05T16:59:04.517362Z",
     "iopub.status.busy": "2023-08-05T16:59:04.516760Z",
     "iopub.status.idle": "2023-08-05T16:59:04.531885Z",
     "shell.execute_reply": "2023-08-05T16:59:04.530248Z"
    },
    "papermill": {
     "duration": 0.024894,
     "end_time": "2023-08-05T16:59:04.534866",
     "exception": false,
     "start_time": "2023-08-05T16:59:04.509972",
     "status": "completed"
    },
    "tags": []
   },
   "outputs": [],
   "source": [
    "import pandas as pd"
   ]
  },
  {
   "cell_type": "markdown",
   "id": "d6938477",
   "metadata": {
    "papermill": {
     "duration": 0.004512,
     "end_time": "2023-08-05T16:59:04.544584",
     "exception": false,
     "start_time": "2023-08-05T16:59:04.540072",
     "status": "completed"
    },
    "tags": []
   },
   "source": [
    "# Read Data"
   ]
  },
  {
   "cell_type": "code",
   "execution_count": 2,
   "id": "3d4a8e24",
   "metadata": {
    "execution": {
     "iopub.execute_input": "2023-08-05T16:59:04.556421Z",
     "iopub.status.busy": "2023-08-05T16:59:04.555972Z",
     "iopub.status.idle": "2023-08-05T16:59:04.604009Z",
     "shell.execute_reply": "2023-08-05T16:59:04.603048Z"
    },
    "papermill": {
     "duration": 0.057663,
     "end_time": "2023-08-05T16:59:04.606972",
     "exception": false,
     "start_time": "2023-08-05T16:59:04.549309",
     "status": "completed"
    },
    "tags": []
   },
   "outputs": [],
   "source": [
    "data = pd.read_csv(\"/kaggle/input/user-funnels-dataset/user_data.csv\")"
   ]
  },
  {
   "cell_type": "code",
   "execution_count": 3,
   "id": "25e56ab8",
   "metadata": {
    "execution": {
     "iopub.execute_input": "2023-08-05T16:59:04.619386Z",
     "iopub.status.busy": "2023-08-05T16:59:04.618507Z",
     "iopub.status.idle": "2023-08-05T16:59:04.636736Z",
     "shell.execute_reply": "2023-08-05T16:59:04.635870Z"
    },
    "papermill": {
     "duration": 0.026984,
     "end_time": "2023-08-05T16:59:04.639147",
     "exception": false,
     "start_time": "2023-08-05T16:59:04.612163",
     "status": "completed"
    },
    "tags": []
   },
   "outputs": [
    {
     "name": "stdout",
     "output_type": "stream",
     "text": [
      "  user_id     stage  conversion\n",
      "0  user_0  homepage        True\n",
      "1  user_1  homepage        True\n",
      "2  user_2  homepage        True\n",
      "3  user_3  homepage        True\n",
      "4  user_4  homepage        True\n"
     ]
    }
   ],
   "source": [
    "print(data.head())"
   ]
  },
  {
   "cell_type": "markdown",
   "id": "d95123b7",
   "metadata": {
    "papermill": {
     "duration": 0.004515,
     "end_time": "2023-08-05T16:59:04.648623",
     "exception": false,
     "start_time": "2023-08-05T16:59:04.644108",
     "status": "completed"
    },
    "tags": []
   },
   "source": [
    "# Stage Column\n",
    "\n",
    "- The stage column contains the stages of the flow of the users. For example, when you visit Amazon, the first stage will be the homepage of Amazon, and the last page will be the page where you proceed with the payment."
   ]
  },
  {
   "cell_type": "code",
   "execution_count": 4,
   "id": "fc5532d4",
   "metadata": {
    "execution": {
     "iopub.execute_input": "2023-08-05T16:59:04.660780Z",
     "iopub.status.busy": "2023-08-05T16:59:04.659529Z",
     "iopub.status.idle": "2023-08-05T16:59:04.676520Z",
     "shell.execute_reply": "2023-08-05T16:59:04.675000Z"
    },
    "papermill": {
     "duration": 0.026045,
     "end_time": "2023-08-05T16:59:04.679335",
     "exception": false,
     "start_time": "2023-08-05T16:59:04.653290",
     "status": "completed"
    },
    "tags": []
   },
   "outputs": [
    {
     "name": "stdout",
     "output_type": "stream",
     "text": [
      "homepage        10000\n",
      "product_page     5000\n",
      "cart             1500\n",
      "checkout          450\n",
      "purchase          225\n",
      "Name: stage, dtype: int64\n"
     ]
    }
   ],
   "source": [
    "print(data[\"stage\"].value_counts())"
   ]
  },
  {
   "cell_type": "markdown",
   "id": "fa06dca5",
   "metadata": {
    "papermill": {
     "duration": 0.004772,
     "end_time": "2023-08-05T16:59:04.689612",
     "exception": false,
     "start_time": "2023-08-05T16:59:04.684840",
     "status": "completed"
    },
    "tags": []
   },
   "source": [
    "# Homepage & Product"
   ]
  },
  {
   "cell_type": "code",
   "execution_count": 5,
   "id": "bdd46358",
   "metadata": {
    "execution": {
     "iopub.execute_input": "2023-08-05T16:59:04.701558Z",
     "iopub.status.busy": "2023-08-05T16:59:04.701137Z",
     "iopub.status.idle": "2023-08-05T16:59:06.532416Z",
     "shell.execute_reply": "2023-08-05T16:59:06.531406Z"
    },
    "papermill": {
     "duration": 1.840904,
     "end_time": "2023-08-05T16:59:06.535395",
     "exception": false,
     "start_time": "2023-08-05T16:59:04.694491",
     "status": "completed"
    },
    "tags": []
   },
   "outputs": [],
   "source": [
    "import plotly.graph_objects as go\n",
    "import plotly.io as pio\n",
    "pio.templates.default = \"plotly_white\""
   ]
  },
  {
   "cell_type": "markdown",
   "id": "a56a1e5c",
   "metadata": {
    "papermill": {
     "duration": 0.004993,
     "end_time": "2023-08-05T16:59:06.545748",
     "exception": false,
     "start_time": "2023-08-05T16:59:06.540755",
     "status": "completed"
    },
    "tags": []
   },
   "source": [
    "# Define the Funnel Stages"
   ]
  },
  {
   "cell_type": "code",
   "execution_count": 6,
   "id": "5f1d91de",
   "metadata": {
    "execution": {
     "iopub.execute_input": "2023-08-05T16:59:06.560110Z",
     "iopub.status.busy": "2023-08-05T16:59:06.558674Z",
     "iopub.status.idle": "2023-08-05T16:59:06.565022Z",
     "shell.execute_reply": "2023-08-05T16:59:06.563559Z"
    },
    "papermill": {
     "duration": 0.016596,
     "end_time": "2023-08-05T16:59:06.568158",
     "exception": false,
     "start_time": "2023-08-05T16:59:06.551562",
     "status": "completed"
    },
    "tags": []
   },
   "outputs": [],
   "source": [
    "funnel_stages = ['homepage', 'product_page', 'cart', 'checkout', 'purchase']"
   ]
  },
  {
   "cell_type": "markdown",
   "id": "c3e11de5",
   "metadata": {
    "papermill": {
     "duration": 0.004824,
     "end_time": "2023-08-05T16:59:06.578308",
     "exception": false,
     "start_time": "2023-08-05T16:59:06.573484",
     "status": "completed"
    },
    "tags": []
   },
   "source": [
    "# Number of Users"
   ]
  },
  {
   "cell_type": "code",
   "execution_count": 7,
   "id": "ddfa1ea9",
   "metadata": {
    "execution": {
     "iopub.execute_input": "2023-08-05T16:59:06.592803Z",
     "iopub.status.busy": "2023-08-05T16:59:06.592107Z",
     "iopub.status.idle": "2023-08-05T16:59:06.622322Z",
     "shell.execute_reply": "2023-08-05T16:59:06.621031Z"
    },
    "papermill": {
     "duration": 0.040113,
     "end_time": "2023-08-05T16:59:06.625442",
     "exception": false,
     "start_time": "2023-08-05T16:59:06.585329",
     "status": "completed"
    },
    "tags": []
   },
   "outputs": [],
   "source": [
    "#calculate the number of users and conversions for each stage\n",
    "num_users = []\n",
    "num_conversions = []\n",
    "\n",
    "for stage in funnel_stages:\n",
    "    stage_users = data[data['stage'] == stage]\n",
    "    num_users.append(len(stage_users))\n",
    "    num_conversions.append(stage_users['conversion'].sum())"
   ]
  }
 ],
 "metadata": {
  "kernelspec": {
   "display_name": "Python 3",
   "language": "python",
   "name": "python3"
  },
  "language_info": {
   "codemirror_mode": {
    "name": "ipython",
    "version": 3
   },
   "file_extension": ".py",
   "mimetype": "text/x-python",
   "name": "python",
   "nbconvert_exporter": "python",
   "pygments_lexer": "ipython3",
   "version": "3.10.12"
  },
  "papermill": {
   "default_parameters": {},
   "duration": 14.501368,
   "end_time": "2023-08-05T16:59:07.555112",
   "environment_variables": {},
   "exception": null,
   "input_path": "__notebook__.ipynb",
   "output_path": "__notebook__.ipynb",
   "parameters": {},
   "start_time": "2023-08-05T16:58:53.053744",
   "version": "2.4.0"
  }
 },
 "nbformat": 4,
 "nbformat_minor": 5
}
