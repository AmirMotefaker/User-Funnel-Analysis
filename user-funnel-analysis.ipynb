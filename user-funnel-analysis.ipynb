{
 "cells": [
  {
   "cell_type": "markdown",
   "id": "e9de089e",
   "metadata": {
    "papermill": {
     "duration": 0.003079,
     "end_time": "2023-08-05T16:48:35.029216",
     "exception": false,
     "start_time": "2023-08-05T16:48:35.026137",
     "status": "completed"
    },
    "tags": []
   },
   "source": [
    "# User Funnel Analysis\n",
    "- User Funnel Analysis is a way to analyze the flow of users on a website or an application. It helps analyze the conversion rate on each page visited by the users.\n",
    "\n",
    "- User funnel analysis is a way to understand how users interact with a website or an application. It helps businesses analyze the conversion rate from the page the user visited the website or the app to the page user left the website or the app.\n",
    "\n",
    "- By tracking user flow as they move through the various stages of the funnel, companies can identify areas where users are giving up or getting stuck, then take action to improve user experience and increase conversions.\n",
    "\n",
    "- For example, if a lot of users leave the website after adding items to the cart, the company may look for ways to make the checkout process faster and easier."
   ]
  },
  {
   "cell_type": "markdown",
   "id": "326c71d8",
   "metadata": {
    "papermill": {
     "duration": 0.002116,
     "end_time": "2023-08-05T16:48:35.034098",
     "exception": false,
     "start_time": "2023-08-05T16:48:35.031982",
     "status": "completed"
    },
    "tags": []
   },
   "source": [
    "# Import Libraries"
   ]
  },
  {
   "cell_type": "code",
   "execution_count": 1,
   "id": "982e1a78",
   "metadata": {
    "execution": {
     "iopub.execute_input": "2023-08-05T16:48:35.041371Z",
     "iopub.status.busy": "2023-08-05T16:48:35.040728Z",
     "iopub.status.idle": "2023-08-05T16:48:35.051346Z",
     "shell.execute_reply": "2023-08-05T16:48:35.050552Z"
    },
    "papermill": {
     "duration": 0.017329,
     "end_time": "2023-08-05T16:48:35.053860",
     "exception": false,
     "start_time": "2023-08-05T16:48:35.036531",
     "status": "completed"
    },
    "tags": []
   },
   "outputs": [],
   "source": [
    "import pandas as pd"
   ]
  },
  {
   "cell_type": "markdown",
   "id": "5c0acafb",
   "metadata": {
    "papermill": {
     "duration": 0.002192,
     "end_time": "2023-08-05T16:48:35.058686",
     "exception": false,
     "start_time": "2023-08-05T16:48:35.056494",
     "status": "completed"
    },
    "tags": []
   },
   "source": [
    "# Read Data"
   ]
  },
  {
   "cell_type": "code",
   "execution_count": 2,
   "id": "eed8319f",
   "metadata": {
    "execution": {
     "iopub.execute_input": "2023-08-05T16:48:35.065470Z",
     "iopub.status.busy": "2023-08-05T16:48:35.064814Z",
     "iopub.status.idle": "2023-08-05T16:48:35.110268Z",
     "shell.execute_reply": "2023-08-05T16:48:35.109053Z"
    },
    "papermill": {
     "duration": 0.052214,
     "end_time": "2023-08-05T16:48:35.113278",
     "exception": false,
     "start_time": "2023-08-05T16:48:35.061064",
     "status": "completed"
    },
    "tags": []
   },
   "outputs": [],
   "source": [
    "data = pd.read_csv(\"/kaggle/input/user-funnels-dataset/user_data.csv\")"
   ]
  }
 ],
 "metadata": {
  "kernelspec": {
   "display_name": "Python 3",
   "language": "python",
   "name": "python3"
  },
  "language_info": {
   "codemirror_mode": {
    "name": "ipython",
    "version": 3
   },
   "file_extension": ".py",
   "mimetype": "text/x-python",
   "name": "python",
   "nbconvert_exporter": "python",
   "pygments_lexer": "ipython3",
   "version": "3.10.12"
  },
  "papermill": {
   "default_parameters": {},
   "duration": 12.361654,
   "end_time": "2023-08-05T16:48:36.038543",
   "environment_variables": {},
   "exception": null,
   "input_path": "__notebook__.ipynb",
   "output_path": "__notebook__.ipynb",
   "parameters": {},
   "start_time": "2023-08-05T16:48:23.676889",
   "version": "2.4.0"
  }
 },
 "nbformat": 4,
 "nbformat_minor": 5
}
