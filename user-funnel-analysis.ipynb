{
 "cells": [
  {
   "cell_type": "markdown",
   "id": "d6faa57e",
   "metadata": {
    "papermill": {
     "duration": 0.00246,
     "end_time": "2023-08-05T16:48:40.790704",
     "exception": false,
     "start_time": "2023-08-05T16:48:40.788244",
     "status": "completed"
    },
    "tags": []
   },
   "source": [
    "# User Funnel Analysis\n",
    "- User Funnel Analysis is a way to analyze the flow of users on a website or an application. It helps analyze the conversion rate on each page visited by the users.\n",
    "\n",
    "- User funnel analysis is a way to understand how users interact with a website or an application. It helps businesses analyze the conversion rate from the page the user visited the website or the app to the page user left the website or the app.\n",
    "\n",
    "- By tracking user flow as they move through the various stages of the funnel, companies can identify areas where users are giving up or getting stuck, then take action to improve user experience and increase conversions.\n",
    "\n",
    "- For example, if a lot of users leave the website after adding items to the cart, the company may look for ways to make the checkout process faster and easier."
   ]
  },
  {
   "cell_type": "markdown",
   "id": "bd3039af",
   "metadata": {
    "papermill": {
     "duration": 0.001571,
     "end_time": "2023-08-05T16:48:40.794457",
     "exception": false,
     "start_time": "2023-08-05T16:48:40.792886",
     "status": "completed"
    },
    "tags": []
   },
   "source": [
    "# Import Libraries"
   ]
  },
  {
   "cell_type": "code",
   "execution_count": 1,
   "id": "9c903f59",
   "metadata": {
    "execution": {
     "iopub.execute_input": "2023-08-05T16:48:40.799776Z",
     "iopub.status.busy": "2023-08-05T16:48:40.799354Z",
     "iopub.status.idle": "2023-08-05T16:48:40.808637Z",
     "shell.execute_reply": "2023-08-05T16:48:40.807694Z"
    },
    "papermill": {
     "duration": 0.014312,
     "end_time": "2023-08-05T16:48:40.810596",
     "exception": false,
     "start_time": "2023-08-05T16:48:40.796284",
     "status": "completed"
    },
    "tags": []
   },
   "outputs": [],
   "source": [
    "import pandas as pd"
   ]
  },
  {
   "cell_type": "markdown",
   "id": "53156eb5",
   "metadata": {
    "papermill": {
     "duration": 0.001649,
     "end_time": "2023-08-05T16:48:40.814311",
     "exception": false,
     "start_time": "2023-08-05T16:48:40.812662",
     "status": "completed"
    },
    "tags": []
   },
   "source": [
    "# Read Data"
   ]
  },
  {
   "cell_type": "code",
   "execution_count": 2,
   "id": "ca0b1e03",
   "metadata": {
    "execution": {
     "iopub.execute_input": "2023-08-05T16:48:40.820196Z",
     "iopub.status.busy": "2023-08-05T16:48:40.819119Z",
     "iopub.status.idle": "2023-08-05T16:48:40.856032Z",
     "shell.execute_reply": "2023-08-05T16:48:40.855071Z"
    },
    "papermill": {
     "duration": 0.042255,
     "end_time": "2023-08-05T16:48:40.858341",
     "exception": false,
     "start_time": "2023-08-05T16:48:40.816086",
     "status": "completed"
    },
    "tags": []
   },
   "outputs": [],
   "source": [
    "data = pd.read_csv(\"/kaggle/input/user-funnels-dataset/user_data.csv\")"
   ]
  }
 ],
 "metadata": {
  "kernelspec": {
   "display_name": "Python 3",
   "language": "python",
   "name": "python3"
  },
  "language_info": {
   "codemirror_mode": {
    "name": "ipython",
    "version": 3
   },
   "file_extension": ".py",
   "mimetype": "text/x-python",
   "name": "python",
   "nbconvert_exporter": "python",
   "pygments_lexer": "ipython3",
   "version": "3.10.12"
  },
  "papermill": {
   "default_parameters": {},
   "duration": 12.068327,
   "end_time": "2023-08-05T16:48:41.680620",
   "environment_variables": {},
   "exception": null,
   "input_path": "__notebook__.ipynb",
   "output_path": "__notebook__.ipynb",
   "parameters": {},
   "start_time": "2023-08-05T16:48:29.612293",
   "version": "2.4.0"
  }
 },
 "nbformat": 4,
 "nbformat_minor": 5
}
