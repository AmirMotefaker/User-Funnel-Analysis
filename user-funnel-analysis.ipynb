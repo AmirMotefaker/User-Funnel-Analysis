{
 "cells": [
  {
   "cell_type": "markdown",
   "id": "71585e5b",
   "metadata": {
    "papermill": {
     "duration": 0.001915,
     "end_time": "2023-08-05T16:20:18.555457",
     "exception": false,
     "start_time": "2023-08-05T16:20:18.553542",
     "status": "completed"
    },
    "tags": []
   },
   "source": [
    "# User Funnel Analysis\n",
    "- User Funnel Analysis is a way to analyze the flow of users on a website or an application. It helps analyze the conversion rate on each page visited by the users."
   ]
  }
 ],
 "metadata": {
  "kernelspec": {
   "display_name": "Python 3",
   "language": "python",
   "name": "python3"
  },
  "language_info": {
   "codemirror_mode": {
    "name": "ipython",
    "version": 3
   },
   "file_extension": ".py",
   "mimetype": "text/x-python",
   "name": "python",
   "nbconvert_exporter": "python",
   "pygments_lexer": "ipython3",
   "version": "3.10.12"
  },
  "papermill": {
   "default_parameters": {},
   "duration": 11.928892,
   "end_time": "2023-08-05T16:20:19.381331",
   "environment_variables": {},
   "exception": null,
   "input_path": "__notebook__.ipynb",
   "output_path": "__notebook__.ipynb",
   "parameters": {},
   "start_time": "2023-08-05T16:20:07.452439",
   "version": "2.4.0"
  }
 },
 "nbformat": 4,
 "nbformat_minor": 5
}
