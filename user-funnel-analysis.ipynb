{
 "cells": [
  {
   "cell_type": "markdown",
   "id": "96419add",
   "metadata": {
    "papermill": {
     "duration": 0.00494,
     "end_time": "2023-08-05T16:51:52.481177",
     "exception": false,
     "start_time": "2023-08-05T16:51:52.476237",
     "status": "completed"
    },
    "tags": []
   },
   "source": [
    "# User Funnel Analysis\n",
    "- User Funnel Analysis is a way to analyze the flow of users on a website or an application. It helps analyze the conversion rate on each page visited by the users.\n",
    "\n",
    "- User funnel analysis is a way to understand how users interact with a website or an application. It helps businesses analyze the conversion rate from the page the user visited the website or the app to the page user left the website or the app.\n",
    "\n",
    "- By tracking user flow as they move through the various stages of the funnel, companies can identify areas where users are giving up or getting stuck, then take action to improve user experience and increase conversions.\n",
    "\n",
    "- For example, if a lot of users leave the website after adding items to the cart, the company may look for ways to make the checkout process faster and easier."
   ]
  },
  {
   "cell_type": "markdown",
   "id": "ad74d59f",
   "metadata": {
    "papermill": {
     "duration": 0.003835,
     "end_time": "2023-08-05T16:51:52.489180",
     "exception": false,
     "start_time": "2023-08-05T16:51:52.485345",
     "status": "completed"
    },
    "tags": []
   },
   "source": [
    "# Import Libraries"
   ]
  },
  {
   "cell_type": "code",
   "execution_count": 1,
   "id": "f2184882",
   "metadata": {
    "execution": {
     "iopub.execute_input": "2023-08-05T16:51:52.499313Z",
     "iopub.status.busy": "2023-08-05T16:51:52.498664Z",
     "iopub.status.idle": "2023-08-05T16:51:52.509486Z",
     "shell.execute_reply": "2023-08-05T16:51:52.508441Z"
    },
    "papermill": {
     "duration": 0.019225,
     "end_time": "2023-08-05T16:51:52.512435",
     "exception": false,
     "start_time": "2023-08-05T16:51:52.493210",
     "status": "completed"
    },
    "tags": []
   },
   "outputs": [],
   "source": [
    "import pandas as pd"
   ]
  },
  {
   "cell_type": "markdown",
   "id": "e44d54b0",
   "metadata": {
    "papermill": {
     "duration": 0.003544,
     "end_time": "2023-08-05T16:51:52.520172",
     "exception": false,
     "start_time": "2023-08-05T16:51:52.516628",
     "status": "completed"
    },
    "tags": []
   },
   "source": [
    "# Read Data"
   ]
  },
  {
   "cell_type": "code",
   "execution_count": 2,
   "id": "ce849f17",
   "metadata": {
    "execution": {
     "iopub.execute_input": "2023-08-05T16:51:52.529192Z",
     "iopub.status.busy": "2023-08-05T16:51:52.528813Z",
     "iopub.status.idle": "2023-08-05T16:51:52.578799Z",
     "shell.execute_reply": "2023-08-05T16:51:52.577455Z"
    },
    "papermill": {
     "duration": 0.057782,
     "end_time": "2023-08-05T16:51:52.581688",
     "exception": false,
     "start_time": "2023-08-05T16:51:52.523906",
     "status": "completed"
    },
    "tags": []
   },
   "outputs": [],
   "source": [
    "data = pd.read_csv(\"/kaggle/input/user-funnels-dataset/user_data.csv\")"
   ]
  },
  {
   "cell_type": "code",
   "execution_count": 3,
   "id": "1f5fd4ac",
   "metadata": {
    "execution": {
     "iopub.execute_input": "2023-08-05T16:51:52.591091Z",
     "iopub.status.busy": "2023-08-05T16:51:52.590647Z",
     "iopub.status.idle": "2023-08-05T16:51:52.606345Z",
     "shell.execute_reply": "2023-08-05T16:51:52.605099Z"
    },
    "papermill": {
     "duration": 0.02408,
     "end_time": "2023-08-05T16:51:52.609646",
     "exception": false,
     "start_time": "2023-08-05T16:51:52.585566",
     "status": "completed"
    },
    "tags": []
   },
   "outputs": [
    {
     "name": "stdout",
     "output_type": "stream",
     "text": [
      "  user_id     stage  conversion\n",
      "0  user_0  homepage        True\n",
      "1  user_1  homepage        True\n",
      "2  user_2  homepage        True\n",
      "3  user_3  homepage        True\n",
      "4  user_4  homepage        True\n"
     ]
    }
   ],
   "source": [
    "print(data.head())"
   ]
  },
  {
   "cell_type": "markdown",
   "id": "8a186ba4",
   "metadata": {
    "papermill": {
     "duration": 0.003894,
     "end_time": "2023-08-05T16:51:52.617584",
     "exception": false,
     "start_time": "2023-08-05T16:51:52.613690",
     "status": "completed"
    },
    "tags": []
   },
   "source": [
    "# Stage Column\n",
    "\n",
    "- The stage column contains the stages of the flow of the users. For example, when you visit Amazon, the first stage will be the homepage of Amazon, and the last page will be the page where you proceed with the payment."
   ]
  },
  {
   "cell_type": "code",
   "execution_count": 4,
   "id": "29d41299",
   "metadata": {
    "execution": {
     "iopub.execute_input": "2023-08-05T16:51:52.627400Z",
     "iopub.status.busy": "2023-08-05T16:51:52.626966Z",
     "iopub.status.idle": "2023-08-05T16:51:52.641672Z",
     "shell.execute_reply": "2023-08-05T16:51:52.640420Z"
    },
    "papermill": {
     "duration": 0.022586,
     "end_time": "2023-08-05T16:51:52.644144",
     "exception": false,
     "start_time": "2023-08-05T16:51:52.621558",
     "status": "completed"
    },
    "tags": []
   },
   "outputs": [
    {
     "name": "stdout",
     "output_type": "stream",
     "text": [
      "homepage        10000\n",
      "product_page     5000\n",
      "cart             1500\n",
      "checkout          450\n",
      "purchase          225\n",
      "Name: stage, dtype: int64\n"
     ]
    }
   ],
   "source": [
    "print(data[\"stage\"].value_counts())"
   ]
  },
  {
   "cell_type": "markdown",
   "id": "d26bead4",
   "metadata": {
    "papermill": {
     "duration": 0.003826,
     "end_time": "2023-08-05T16:51:52.652055",
     "exception": false,
     "start_time": "2023-08-05T16:51:52.648229",
     "status": "completed"
    },
    "tags": []
   },
   "source": [
    "# Homepage & Product"
   ]
  },
  {
   "cell_type": "code",
   "execution_count": 5,
   "id": "9ea36626",
   "metadata": {
    "execution": {
     "iopub.execute_input": "2023-08-05T16:51:52.662096Z",
     "iopub.status.busy": "2023-08-05T16:51:52.661635Z",
     "iopub.status.idle": "2023-08-05T16:51:54.353343Z",
     "shell.execute_reply": "2023-08-05T16:51:54.352396Z"
    },
    "papermill": {
     "duration": 1.699925,
     "end_time": "2023-08-05T16:51:54.356028",
     "exception": false,
     "start_time": "2023-08-05T16:51:52.656103",
     "status": "completed"
    },
    "tags": []
   },
   "outputs": [],
   "source": [
    "import plotly.graph_objects as go\n",
    "import plotly.io as pio\n",
    "pio.templates.default = \"plotly_white\""
   ]
  }
 ],
 "metadata": {
  "kernelspec": {
   "display_name": "Python 3",
   "language": "python",
   "name": "python3"
  },
  "language_info": {
   "codemirror_mode": {
    "name": "ipython",
    "version": 3
   },
   "file_extension": ".py",
   "mimetype": "text/x-python",
   "name": "python",
   "nbconvert_exporter": "python",
   "pygments_lexer": "ipython3",
   "version": "3.10.12"
  },
  "papermill": {
   "default_parameters": {},
   "duration": 14.529559,
   "end_time": "2023-08-05T16:51:55.283259",
   "environment_variables": {},
   "exception": null,
   "input_path": "__notebook__.ipynb",
   "output_path": "__notebook__.ipynb",
   "parameters": {},
   "start_time": "2023-08-05T16:51:40.753700",
   "version": "2.4.0"
  }
 },
 "nbformat": 4,
 "nbformat_minor": 5
}
